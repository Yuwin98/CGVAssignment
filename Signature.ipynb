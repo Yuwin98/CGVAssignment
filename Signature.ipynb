{
 "cells": [
  {
   "cell_type": "code",
   "execution_count": null,
   "metadata": {
    "id": "iAve6DCL4JH4"
   },
   "outputs": [],
   "source": [
    "import tensorflow as tf\n",
    "\n",
    "from tensorflow.keras import datasets, layers, models\n",
    "import matplotlib.pyplot as plt\n",
    "\n",
    "import os \n",
    "import numpy as np \n",
    "import cv2 \n",
    "\n",
    "IMG_HEIGHT = 416\n",
    "IMG_WIDTH = 416"
   ]
  },
  {
   "cell_type": "code",
   "source": [
    "from google.colab import drive\n",
    "drive.mount('/content/drive')"
   ],
   "metadata": {
    "colab": {
     "base_uri": "https://localhost:8080/"
    },
    "id": "A37e--qNk4HM",
    "outputId": "ef2e8a9c-8d99-4a2b-e59a-f7f38dff909e"
   },
   "execution_count": null,
   "outputs": [
    {
     "output_type": "stream",
     "name": "stdout",
     "text": [
      "Mounted at /content/drive\n"
     ]
    }
   ]
  },
  {
   "cell_type": "code",
   "source": [
    "!unrar x \"/content/train_data.rar\" \"/content/\""
   ],
   "metadata": {
    "colab": {
     "base_uri": "https://localhost:8080/"
    },
    "id": "RuSjklztk_0F",
    "outputId": "ffc2999b-b369-4d2b-dccf-7dda659ab751"
   },
   "execution_count": null,
   "outputs": [
    {
     "output_type": "stream",
     "name": "stdout",
     "text": [
      "\n",
      "UNRAR 5.50 freeware      Copyright (c) 1993-2017 Alexander Roshal\n",
      "\n",
      "\n",
      "Extracting from /content/train_data.rar\n",
      "\n",
      "Creating    /content/train_data                                       OK\n",
      "Creating    /content/train_data/test                                  OK\n",
      "Creating    /content/train_data/test/Absent                           OK\n",
      "Extracting  /content/train_data/test/Absent/4_2_jpeg.rf.d22eb007ea25dcdb0924bc8e395fc6c4.jpg     \b\b\b\b  2%\b\b\b\b\b  OK \n",
      "Creating    /content/train_data/test/Present                          OK\n",
      "Extracting  /content/train_data/test/Present/2_3_jpeg.rf.5ebb1355181c5911a18896d3965d6018.jpg     \b\b\b\b  5%\b\b\b\b\b  OK \n",
      "Extracting  /content/train_data/test/Present/2_4_jpeg.rf.b8dbec04b14be7151c24857ac68dc922.jpg     \b\b\b\b  9%\b\b\b\b\b  OK \n",
      "Extracting  /content/train_data/test/Present/3_6_jpeg.rf.ecbc2e832c1f82b2e987084ac11ea2a0.jpg     \b\b\b\b 13%\b\b\b\b\b  OK \n",
      "Extracting  /content/train_data/test/Present/4_5_jpeg.rf.f74333ce6d870b5ee0530d66357df155.jpg     \b\b\b\b 16%\b\b\b\b\b  OK \n",
      "Extracting  /content/train_data/test/Present/4_6_jpeg.rf.d246d95d2b69c9f25c28b5205adf8038.jpg     \b\b\b\b 19%\b\b\b\b\b  OK \n",
      "Extracting  /content/train_data/test/Present/5_3_jpeg.rf.113bc08aa382c67f4e7eed8ba59e2f06.jpg     \b\b\b\b 23%\b\b\b\b\b  OK \n",
      "Extracting  /content/train_data/test/Present/5_4_jpeg.rf.7ae8fbb48ec1ecbdf479934a36dcd40b.jpg     \b\b\b\b 26%\b\b\b\b\b  OK \n",
      "Extracting  /content/train_data/test/Present/5_5_jpeg.rf.61942ba340781cf16c03618065ef0e59.jpg     \b\b\b\b 30%\b\b\b\b\b  OK \n",
      "Extracting  /content/train_data/test/Present/5_6_jpeg.rf.855d8226d02832ae4f5ecf998400e02a.jpg     \b\b\b\b 34%\b\b\b\b\b  OK \n",
      "Creating    /content/train_data/train                                 OK\n",
      "Creating    /content/train_data/train/Absent                          OK\n",
      "Extracting  /content/train_data/train/Absent/2_6_jpeg.rf.8b12f3a1a534aa76389536d2fdf24cc0.jpg     \b\b\b\b 37%\b\b\b\b\b  OK \n",
      "Extracting  /content/train_data/train/Absent/3_2_jpeg.rf.ebd015dbeabb461ee39f5cfde5fd4742.jpg     \b\b\b\b 39%\b\b\b\b\b  OK \n",
      "Extracting  /content/train_data/train/Absent/3_3_jpeg.rf.9e55a4acc85fded12a78d9e8bd8cafc3.jpg     \b\b\b\b 42%\b\b\b\b\b  OK \n",
      "Extracting  /content/train_data/train/Absent/4_4_jpeg.rf.02fc93224fd89898e634304d3bdf0f3b.jpg     \b\b\b\b 44%\b\b\b\b\b  OK \n",
      "Creating    /content/train_data/train/Present                         OK\n",
      "Extracting  /content/train_data/train/Present/1_1_jpeg.rf.6f1be007f027448beb838b7b846045e2.jpg     \b\b\b\b 48%\b\b\b\b\b  OK \n",
      "Extracting  /content/train_data/train/Present/1_2_jpeg.rf.1b5379a8909ebb3971b41bed266ce83e.jpg     \b\b\b\b 51%\b\b\b\b\b  OK \n",
      "Extracting  /content/train_data/train/Present/1_3_jpeg.rf.3728a38e9d5e4526bc6430974b9bdd03.jpg     \b\b\b\b 54%\b\b\b\b\b  OK \n",
      "Extracting  /content/train_data/train/Present/1_4_jpeg.rf.8a0a4e45fefbc0096c4a9868a534e570.jpg     \b\b\b\b 58%\b\b\b\b\b  OK \n",
      "Extracting  /content/train_data/train/Present/1_5_jpeg.rf.77a30406bdee20c6a29bd0dd3792e6bf.jpg     \b\b\b\b 60%\b\b\b\b\b  OK \n",
      "Extracting  /content/train_data/train/Present/1_6_jpeg.rf.7904d2f80228a9558d737b421e2fe580.jpg     \b\b\b\b 63%\b\b\b\b\b  OK \n",
      "Extracting  /content/train_data/train/Present/2_1_jpeg.rf.2df7c07c29d47856ea0263608ab0b057.jpg     \b\b\b\b 67%\b\b\b\b\b  OK \n",
      "Extracting  /content/train_data/train/Present/2_2_jpeg.rf.8b76bead2b3b53ef59b361146cc39807.jpg     \b\b\b\b 71%\b\b\b\b\b  OK \n",
      "Extracting  /content/train_data/train/Present/2_5_jpeg.rf.09c6c6cb1cf5098c681a61ec2db8fc29.jpg     \b\b\b\b 74%\b\b\b\b\b  OK \n",
      "Extracting  /content/train_data/train/Present/3_1_jpeg.rf.724458d16b2f7feae396055a76d38fd1.jpg     \b\b\b\b 78%\b\b\b\b\b  OK \n",
      "Extracting  /content/train_data/train/Present/3_4_jpeg.rf.1a4916621cfa57c7ff025e1e6fe870db.jpg     \b\b\b\b 81%\b\b\b\b\b  OK \n",
      "Extracting  /content/train_data/train/Present/3_5_jpeg.rf.01690a4cc1a7c4dcbf1f2a7c84ed8b2e.jpg     \b\b\b\b 84%\b\b\b\b\b  OK \n",
      "Extracting  /content/train_data/train/Present/4_1_jpeg.rf.ccbb116b28c6f4be1862fb45eafa8c7a.jpg     \b\b\b\b 88%\b\b\b\b\b  OK \n",
      "Extracting  /content/train_data/train/Present/4_3_jpeg.rf.1cf12f767b8a0a2d0c4cd92ad902d2e3.jpg     \b\b\b\b 92%\b\b\b\b\b  OK \n",
      "Extracting  /content/train_data/train/Present/5_1_jpeg.rf.5b3df1d588632b9447156b28b3f00345.jpg     \b\b\b\b 96%\b\b\b\b\b  OK \n",
      "Extracting  /content/train_data/train/Present/5_2_jpeg.rf.7987d87ac97448cc302283706754cdb2.jpg     \b\b\b\b 99%\b\b\b\b\b  OK \n",
      "All OK\n"
     ]
    }
   ]
  },
  {
   "cell_type": "code",
   "execution_count": null,
   "metadata": {
    "id": "JWoEqyMuXFF4"
   },
   "outputs": [],
   "source": [
    "def create_dataset(img_folder):\n",
    "   \n",
    "    img_data_array=[]\n",
    "    class_name=[]\n",
    "   \n",
    "    for dir1 in os.listdir(img_folder):\n",
    "        for file in os.listdir(os.path.join(img_folder, dir1)):\n",
    "       \n",
    "            image_path= os.path.join(img_folder, dir1,  file)\n",
    "            image= cv2.imread( image_path, cv2.COLOR_BGR2RGB)\n",
    "            image=cv2.resize(image, (IMG_HEIGHT, IMG_WIDTH),interpolation = cv2.INTER_AREA)\n",
    "            image=np.array(image)\n",
    "            image = image.astype('float32')\n",
    "            image /= 255 \n",
    "            img_data_array.append(image)\n",
    "            class_name.append(dir1)\n",
    "    return img_data_array, class_name"
   ]
  },
  {
   "cell_type": "code",
   "execution_count": null,
   "metadata": {
    "id": "K3PAELE2eSU9"
   },
   "outputs": [],
   "source": [
    "train_images,train_labels = create_dataset('/content/train_data/train')\n",
    "test_images,test_labels = create_dataset('/content/train_data/test')"
   ]
  },
  {
   "cell_type": "code",
   "source": [
    "target_dict={k: v for v, k in enumerate(np.unique(train_labels))}\n"
   ],
   "metadata": {
    "id": "q43xalfvlYSs"
   },
   "execution_count": null,
   "outputs": []
  },
  {
   "cell_type": "code",
   "source": [
    "target_dict"
   ],
   "metadata": {
    "colab": {
     "base_uri": "https://localhost:8080/"
    },
    "id": "cqlv_Em2lp0l",
    "outputId": "7d225c5f-dd4c-4eea-b038-74c8d74e414d"
   },
   "execution_count": null,
   "outputs": [
    {
     "output_type": "execute_result",
     "data": {
      "text/plain": [
       "{'Absent': 0, 'Present': 1}"
      ]
     },
     "metadata": {},
     "execution_count": 12
    }
   ]
  },
  {
   "cell_type": "code",
   "source": [
    "train_labels =  [target_dict[train_labels[i]] for i in range(len(train_labels))]\n",
    "test_labels =  [target_dict[test_labels[i]] for i in range(len(test_labels))]"
   ],
   "metadata": {
    "id": "sDa9vZLKl2O5"
   },
   "execution_count": null,
   "outputs": []
  },
  {
   "cell_type": "code",
   "source": [
    "train_images = np.array(train_images)\n",
    "test_images = np.array(test_images)\n",
    "train_labels = np.array(train_labels)\n",
    "test_labels = np.array(test_labels)"
   ],
   "metadata": {
    "id": "WGH-aFIameNB"
   },
   "execution_count": null,
   "outputs": []
  },
  {
   "cell_type": "code",
   "source": [
    "train_labels  = train_labels.reshape(-1,1)\n",
    "test_labels  = test_labels.reshape(-1,1)\n",
    "train_images = train_images.reshape(-1,416,416,3)\n",
    "test_images = test_images.reshape(-1,416,416,3)"
   ],
   "metadata": {
    "id": "MGy8q6rdmEyZ"
   },
   "execution_count": null,
   "outputs": []
  },
  {
   "cell_type": "code",
   "execution_count": null,
   "metadata": {
    "id": "L9YmGQBQPrdn"
   },
   "outputs": [],
   "source": [
    "model = models.Sequential()\n",
    "model.add(layers.Conv2D(32, (3, 3), activation='relu', input_shape=(416, 416, 3)))\n",
    "model.add(layers.MaxPooling2D((2, 2)))\n",
    "model.add(layers.Conv2D(64, (3, 3), activation='relu'))\n",
    "model.add(layers.MaxPooling2D((2, 2)))\n",
    "model.add(layers.Conv2D(64, (3, 3), activation='relu'))"
   ]
  },
  {
   "cell_type": "code",
   "execution_count": null,
   "metadata": {
    "id": "8-C4XBg4UTJy",
    "colab": {
     "base_uri": "https://localhost:8080/"
    },
    "outputId": "4bdaf310-a459-42e2-8cea-769a7ea8a6a5"
   },
   "outputs": [
    {
     "output_type": "stream",
     "name": "stdout",
     "text": [
      "Model: \"sequential_1\"\n",
      "_________________________________________________________________\n",
      " Layer (type)                Output Shape              Param #   \n",
      "=================================================================\n",
      " conv2d_3 (Conv2D)           (None, 414, 414, 32)      896       \n",
      "                                                                 \n",
      " max_pooling2d_2 (MaxPooling  (None, 207, 207, 32)     0         \n",
      " 2D)                                                             \n",
      "                                                                 \n",
      " conv2d_4 (Conv2D)           (None, 205, 205, 64)      18496     \n",
      "                                                                 \n",
      " max_pooling2d_3 (MaxPooling  (None, 102, 102, 64)     0         \n",
      " 2D)                                                             \n",
      "                                                                 \n",
      " conv2d_5 (Conv2D)           (None, 100, 100, 64)      36928     \n",
      "                                                                 \n",
      "=================================================================\n",
      "Total params: 56,320\n",
      "Trainable params: 56,320\n",
      "Non-trainable params: 0\n",
      "_________________________________________________________________\n"
     ]
    }
   ],
   "source": [
    "model.summary()"
   ]
  },
  {
   "cell_type": "code",
   "execution_count": null,
   "metadata": {
    "id": "mRs95d6LUVEi"
   },
   "outputs": [],
   "source": [
    "model.add(layers.Flatten())\n",
    "model.add(layers.Dense(64, activation='relu'))\n",
    "model.add(layers.Dense(7))"
   ]
  },
  {
   "cell_type": "code",
   "execution_count": null,
   "metadata": {
    "id": "8Yu_m-TZUWGX",
    "colab": {
     "base_uri": "https://localhost:8080/"
    },
    "outputId": "f9f7d2ee-cddc-4eb0-f0bf-c126eced5182"
   },
   "outputs": [
    {
     "output_type": "stream",
     "name": "stdout",
     "text": [
      "Model: \"sequential_1\"\n",
      "_________________________________________________________________\n",
      " Layer (type)                Output Shape              Param #   \n",
      "=================================================================\n",
      " conv2d_3 (Conv2D)           (None, 414, 414, 32)      896       \n",
      "                                                                 \n",
      " max_pooling2d_2 (MaxPooling  (None, 207, 207, 32)     0         \n",
      " 2D)                                                             \n",
      "                                                                 \n",
      " conv2d_4 (Conv2D)           (None, 205, 205, 64)      18496     \n",
      "                                                                 \n",
      " max_pooling2d_3 (MaxPooling  (None, 102, 102, 64)     0         \n",
      " 2D)                                                             \n",
      "                                                                 \n",
      " conv2d_5 (Conv2D)           (None, 100, 100, 64)      36928     \n",
      "                                                                 \n",
      " flatten_1 (Flatten)         (None, 640000)            0         \n",
      "                                                                 \n",
      " dense_2 (Dense)             (None, 64)                40960064  \n",
      "                                                                 \n",
      " dense_3 (Dense)             (None, 2)                 130       \n",
      "                                                                 \n",
      "=================================================================\n",
      "Total params: 41,016,514\n",
      "Trainable params: 41,016,514\n",
      "Non-trainable params: 0\n",
      "_________________________________________________________________\n"
     ]
    }
   ],
   "source": [
    "model.summary()"
   ]
  },
  {
   "cell_type": "code",
   "execution_count": null,
   "metadata": {
    "id": "MdDzI75PUXrG",
    "colab": {
     "base_uri": "https://localhost:8080/"
    },
    "outputId": "a545df4a-d387-4585-c1a6-ff36b8ab3baa"
   },
   "outputs": [
    {
     "output_type": "stream",
     "name": "stdout",
     "text": [
      "Epoch 1/20\n",
      "1/1 [==============================] - 1s 734ms/step - loss: 0.3765 - accuracy: 0.8000 - val_loss: 0.5108 - val_accuracy: 0.8000\n",
      "Epoch 2/20\n",
      "1/1 [==============================] - 0s 175ms/step - loss: 0.5019 - accuracy: 0.8000 - val_loss: 0.3140 - val_accuracy: 0.9000\n",
      "Epoch 3/20\n",
      "1/1 [==============================] - 0s 158ms/step - loss: 0.4817 - accuracy: 0.8000 - val_loss: 0.2854 - val_accuracy: 0.8000\n",
      "Epoch 4/20\n",
      "1/1 [==============================] - 0s 153ms/step - loss: 0.2777 - accuracy: 0.8500 - val_loss: 0.3175 - val_accuracy: 0.8000\n",
      "Epoch 5/20\n",
      "1/1 [==============================] - 0s 161ms/step - loss: 0.2583 - accuracy: 0.9500 - val_loss: 0.2991 - val_accuracy: 0.8000\n",
      "Epoch 6/20\n",
      "1/1 [==============================] - 0s 161ms/step - loss: 0.2294 - accuracy: 0.9500 - val_loss: 0.3091 - val_accuracy: 0.8000\n",
      "Epoch 7/20\n",
      "1/1 [==============================] - 0s 153ms/step - loss: 0.1979 - accuracy: 0.9500 - val_loss: 0.3274 - val_accuracy: 0.8000\n",
      "Epoch 8/20\n",
      "1/1 [==============================] - 0s 154ms/step - loss: 0.1659 - accuracy: 0.9500 - val_loss: 0.3536 - val_accuracy: 0.8000\n",
      "Epoch 9/20\n",
      "1/1 [==============================] - 0s 158ms/step - loss: 0.1406 - accuracy: 0.9500 - val_loss: 0.4962 - val_accuracy: 0.8000\n",
      "Epoch 10/20\n",
      "1/1 [==============================] - 0s 163ms/step - loss: 0.1420 - accuracy: 0.9500 - val_loss: 0.3826 - val_accuracy: 0.8000\n",
      "Epoch 11/20\n",
      "1/1 [==============================] - 0s 156ms/step - loss: 0.0950 - accuracy: 0.9500 - val_loss: 0.3978 - val_accuracy: 0.8000\n",
      "Epoch 12/20\n",
      "1/1 [==============================] - 0s 157ms/step - loss: 0.0752 - accuracy: 0.9500 - val_loss: 0.5247 - val_accuracy: 0.7000\n",
      "Epoch 13/20\n",
      "1/1 [==============================] - 0s 157ms/step - loss: 0.0620 - accuracy: 0.9500 - val_loss: 0.4276 - val_accuracy: 0.8000\n",
      "Epoch 14/20\n",
      "1/1 [==============================] - 0s 195ms/step - loss: 0.0387 - accuracy: 1.0000 - val_loss: 0.4670 - val_accuracy: 0.8000\n",
      "Epoch 15/20\n",
      "1/1 [==============================] - 0s 152ms/step - loss: 0.0227 - accuracy: 1.0000 - val_loss: 0.4637 - val_accuracy: 0.8000\n",
      "Epoch 16/20\n",
      "1/1 [==============================] - 0s 151ms/step - loss: 0.0142 - accuracy: 1.0000 - val_loss: 0.4010 - val_accuracy: 0.8000\n",
      "Epoch 17/20\n",
      "1/1 [==============================] - 0s 155ms/step - loss: 0.0100 - accuracy: 1.0000 - val_loss: 0.4830 - val_accuracy: 0.8000\n",
      "Epoch 18/20\n",
      "1/1 [==============================] - 0s 156ms/step - loss: 0.0057 - accuracy: 1.0000 - val_loss: 0.4278 - val_accuracy: 0.8000\n",
      "Epoch 19/20\n",
      "1/1 [==============================] - 0s 152ms/step - loss: 0.0028 - accuracy: 1.0000 - val_loss: 0.3913 - val_accuracy: 0.9000\n",
      "Epoch 20/20\n",
      "1/1 [==============================] - 0s 155ms/step - loss: 0.0028 - accuracy: 1.0000 - val_loss: 0.4139 - val_accuracy: 0.8000\n"
     ]
    }
   ],
   "source": [
    "model.compile(optimizer='adam',\n",
    "              loss=tf.keras.losses.SparseCategoricalCrossentropy(from_logits=True),\n",
    "              metrics=['accuracy'])\n",
    "\n",
    "history = model.fit(train_images, train_labels, epochs=20, \n",
    "                    validation_data=(test_images, test_labels))"
   ]
  },
  {
   "cell_type": "code",
   "execution_count": null,
   "metadata": {
    "id": "gtyDF0MKUcM7",
    "colab": {
     "base_uri": "https://localhost:8080/",
     "height": 301
    },
    "outputId": "e448a030-e2f4-4b9b-9a11-5d083c173794"
   },
   "outputs": [
    {
     "output_type": "stream",
     "name": "stdout",
     "text": [
      "1/1 - 0s - loss: 0.4139 - accuracy: 0.8000 - 47ms/epoch - 47ms/step\n"
     ]
    },
    {
     "output_type": "display_data",
     "data": {
      "text/plain": [
       "<Figure size 432x288 with 1 Axes>"
      ],
      "image/png": "[encoded data removed]"
     },
     "metadata": {
      "needs_background": "light"
     }
    }
   ],
   "source": [
    "plt.plot(history.history['accuracy'], label='accuracy')\n",
    "plt.plot(history.history['val_accuracy'], label = 'val_accuracy')\n",
    "plt.xlabel('Epoch')\n",
    "plt.ylabel('Accuracy')\n",
    "plt.ylim([0.5, 1])\n",
    "plt.legend(loc='lower right')\n",
    "\n",
    "test_loss, test_acc = model.evaluate(test_images,  test_labels, verbose=2)"
   ]
  },
  {
   "cell_type": "code",
   "execution_count": null,
   "metadata": {
    "id": "0LvwaKhtUdOo"
   },
   "outputs": [],
   "source": [
    "model.save(\"attendence_check.h5\")"
   ]
  },
  {
   "cell_type": "code",
   "source": [
    "!cp /content/attendence_check.h5 /content/drive/My\\ Drive/"
   ],
   "metadata": {
    "id": "3KF5ntWGuQsr"
   },
   "execution_count": null,
   "outputs": []
  },
  {
   "cell_type": "code",
   "source": [],
   "metadata": {
    "id": "B42nmjfyuaMf"
   },
   "execution_count": null,
   "outputs": []
  }
 ],
 "metadata": {
  "accelerator": "GPU",
  "colab": {
   "collapsed_sections": [],
   "name": "Signature.ipynb",
   "provenance": []
  },
  "kernelspec": {
   "display_name": "Python 3",
   "name": "python3"
  }
 },
 "nbformat": 4,
 "nbformat_minor": 0
}